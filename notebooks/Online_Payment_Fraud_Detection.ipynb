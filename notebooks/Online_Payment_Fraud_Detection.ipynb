{
 "cells": [
  {
   "cell_type": "markdown",
   "id": "4db358d8",
   "metadata": {},
   "source": [
    "# Online Payment Fraud Detection"
   ]
  },
  {
   "cell_type": "markdown",
   "id": "167dc354",
   "metadata": {},
   "source": [
    "Data Source: /https://www.kaggle.com/datasets/jainilcoder/online-payment-fraud-detection/data"
   ]
  },
  {
   "cell_type": "markdown",
   "id": "83a510f0",
   "metadata": {},
   "source": [
    "### Importing Packages"
   ]
  },
  {
   "cell_type": "code",
   "execution_count": 1,
   "id": "a527b7d0",
   "metadata": {},
   "outputs": [],
   "source": [
    "import numpy as np\n",
    "import pandas as pd\n",
    "import datetime as dt\n",
    "import warnings\n",
    "import missingno as msno\n",
    "import matplotlib.pyplot as plt\n",
    "import plotly.express as px\n",
    "import plotly.graph_objects as go\n",
    "import seaborn as sns\n",
    "from sklearn.model_selection import train_test_split, GridSearchCV\n",
    "from sklearn.preprocessing import StandardScaler, PolynomialFeatures\n",
    "from sklearn.linear_model import LogisticRegression"
   ]
  },
  {
   "cell_type": "markdown",
   "id": "4ed9896a",
   "metadata": {},
   "source": [
    "### Ignores all warning messages"
   ]
  },
  {
   "cell_type": "code",
   "execution_count": 2,
   "id": "ba8f422a",
   "metadata": {},
   "outputs": [],
   "source": [
    "warnings.filterwarnings(\"ignore\")"
   ]
  },
  {
   "cell_type": "markdown",
   "id": "7ffd03fe",
   "metadata": {},
   "source": [
    "### Reading the csv file"
   ]
  },
  {
   "cell_type": "code",
   "execution_count": 3,
   "id": "1b13689a",
   "metadata": {},
   "outputs": [
    {
     "ename": "FileNotFoundError",
     "evalue": "[Errno 2] No such file or directory: 'onlinefraud.csv'",
     "output_type": "error",
     "traceback": [
      "\u001b[1;31m---------------------------------------------------------------------------\u001b[0m",
      "\u001b[1;31mFileNotFoundError\u001b[0m                         Traceback (most recent call last)",
      "Cell \u001b[1;32mIn[3], line 1\u001b[0m\n\u001b[1;32m----> 1\u001b[0m df \u001b[38;5;241m=\u001b[39m pd\u001b[38;5;241m.\u001b[39mread_csv(\u001b[38;5;124m\"\u001b[39m\u001b[38;5;124monlinefraud.csv\u001b[39m\u001b[38;5;124m\"\u001b[39m)\n\u001b[0;32m      2\u001b[0m \u001b[38;5;66;03m# Displaying top 5 rows\u001b[39;00m\n\u001b[0;32m      3\u001b[0m df\u001b[38;5;241m.\u001b[39mhead()\n",
      "File \u001b[1;32m~\\anaconda3\\Lib\\site-packages\\pandas\\io\\parsers\\readers.py:1026\u001b[0m, in \u001b[0;36mread_csv\u001b[1;34m(filepath_or_buffer, sep, delimiter, header, names, index_col, usecols, dtype, engine, converters, true_values, false_values, skipinitialspace, skiprows, skipfooter, nrows, na_values, keep_default_na, na_filter, verbose, skip_blank_lines, parse_dates, infer_datetime_format, keep_date_col, date_parser, date_format, dayfirst, cache_dates, iterator, chunksize, compression, thousands, decimal, lineterminator, quotechar, quoting, doublequote, escapechar, comment, encoding, encoding_errors, dialect, on_bad_lines, delim_whitespace, low_memory, memory_map, float_precision, storage_options, dtype_backend)\u001b[0m\n\u001b[0;32m   1013\u001b[0m kwds_defaults \u001b[38;5;241m=\u001b[39m _refine_defaults_read(\n\u001b[0;32m   1014\u001b[0m     dialect,\n\u001b[0;32m   1015\u001b[0m     delimiter,\n\u001b[1;32m   (...)\u001b[0m\n\u001b[0;32m   1022\u001b[0m     dtype_backend\u001b[38;5;241m=\u001b[39mdtype_backend,\n\u001b[0;32m   1023\u001b[0m )\n\u001b[0;32m   1024\u001b[0m kwds\u001b[38;5;241m.\u001b[39mupdate(kwds_defaults)\n\u001b[1;32m-> 1026\u001b[0m \u001b[38;5;28;01mreturn\u001b[39;00m _read(filepath_or_buffer, kwds)\n",
      "File \u001b[1;32m~\\anaconda3\\Lib\\site-packages\\pandas\\io\\parsers\\readers.py:620\u001b[0m, in \u001b[0;36m_read\u001b[1;34m(filepath_or_buffer, kwds)\u001b[0m\n\u001b[0;32m    617\u001b[0m _validate_names(kwds\u001b[38;5;241m.\u001b[39mget(\u001b[38;5;124m\"\u001b[39m\u001b[38;5;124mnames\u001b[39m\u001b[38;5;124m\"\u001b[39m, \u001b[38;5;28;01mNone\u001b[39;00m))\n\u001b[0;32m    619\u001b[0m \u001b[38;5;66;03m# Create the parser.\u001b[39;00m\n\u001b[1;32m--> 620\u001b[0m parser \u001b[38;5;241m=\u001b[39m TextFileReader(filepath_or_buffer, \u001b[38;5;241m*\u001b[39m\u001b[38;5;241m*\u001b[39mkwds)\n\u001b[0;32m    622\u001b[0m \u001b[38;5;28;01mif\u001b[39;00m chunksize \u001b[38;5;129;01mor\u001b[39;00m iterator:\n\u001b[0;32m    623\u001b[0m     \u001b[38;5;28;01mreturn\u001b[39;00m parser\n",
      "File \u001b[1;32m~\\anaconda3\\Lib\\site-packages\\pandas\\io\\parsers\\readers.py:1620\u001b[0m, in \u001b[0;36mTextFileReader.__init__\u001b[1;34m(self, f, engine, **kwds)\u001b[0m\n\u001b[0;32m   1617\u001b[0m     \u001b[38;5;28mself\u001b[39m\u001b[38;5;241m.\u001b[39moptions[\u001b[38;5;124m\"\u001b[39m\u001b[38;5;124mhas_index_names\u001b[39m\u001b[38;5;124m\"\u001b[39m] \u001b[38;5;241m=\u001b[39m kwds[\u001b[38;5;124m\"\u001b[39m\u001b[38;5;124mhas_index_names\u001b[39m\u001b[38;5;124m\"\u001b[39m]\n\u001b[0;32m   1619\u001b[0m \u001b[38;5;28mself\u001b[39m\u001b[38;5;241m.\u001b[39mhandles: IOHandles \u001b[38;5;241m|\u001b[39m \u001b[38;5;28;01mNone\u001b[39;00m \u001b[38;5;241m=\u001b[39m \u001b[38;5;28;01mNone\u001b[39;00m\n\u001b[1;32m-> 1620\u001b[0m \u001b[38;5;28mself\u001b[39m\u001b[38;5;241m.\u001b[39m_engine \u001b[38;5;241m=\u001b[39m \u001b[38;5;28mself\u001b[39m\u001b[38;5;241m.\u001b[39m_make_engine(f, \u001b[38;5;28mself\u001b[39m\u001b[38;5;241m.\u001b[39mengine)\n",
      "File \u001b[1;32m~\\anaconda3\\Lib\\site-packages\\pandas\\io\\parsers\\readers.py:1880\u001b[0m, in \u001b[0;36mTextFileReader._make_engine\u001b[1;34m(self, f, engine)\u001b[0m\n\u001b[0;32m   1878\u001b[0m     \u001b[38;5;28;01mif\u001b[39;00m \u001b[38;5;124m\"\u001b[39m\u001b[38;5;124mb\u001b[39m\u001b[38;5;124m\"\u001b[39m \u001b[38;5;129;01mnot\u001b[39;00m \u001b[38;5;129;01min\u001b[39;00m mode:\n\u001b[0;32m   1879\u001b[0m         mode \u001b[38;5;241m+\u001b[39m\u001b[38;5;241m=\u001b[39m \u001b[38;5;124m\"\u001b[39m\u001b[38;5;124mb\u001b[39m\u001b[38;5;124m\"\u001b[39m\n\u001b[1;32m-> 1880\u001b[0m \u001b[38;5;28mself\u001b[39m\u001b[38;5;241m.\u001b[39mhandles \u001b[38;5;241m=\u001b[39m get_handle(\n\u001b[0;32m   1881\u001b[0m     f,\n\u001b[0;32m   1882\u001b[0m     mode,\n\u001b[0;32m   1883\u001b[0m     encoding\u001b[38;5;241m=\u001b[39m\u001b[38;5;28mself\u001b[39m\u001b[38;5;241m.\u001b[39moptions\u001b[38;5;241m.\u001b[39mget(\u001b[38;5;124m\"\u001b[39m\u001b[38;5;124mencoding\u001b[39m\u001b[38;5;124m\"\u001b[39m, \u001b[38;5;28;01mNone\u001b[39;00m),\n\u001b[0;32m   1884\u001b[0m     compression\u001b[38;5;241m=\u001b[39m\u001b[38;5;28mself\u001b[39m\u001b[38;5;241m.\u001b[39moptions\u001b[38;5;241m.\u001b[39mget(\u001b[38;5;124m\"\u001b[39m\u001b[38;5;124mcompression\u001b[39m\u001b[38;5;124m\"\u001b[39m, \u001b[38;5;28;01mNone\u001b[39;00m),\n\u001b[0;32m   1885\u001b[0m     memory_map\u001b[38;5;241m=\u001b[39m\u001b[38;5;28mself\u001b[39m\u001b[38;5;241m.\u001b[39moptions\u001b[38;5;241m.\u001b[39mget(\u001b[38;5;124m\"\u001b[39m\u001b[38;5;124mmemory_map\u001b[39m\u001b[38;5;124m\"\u001b[39m, \u001b[38;5;28;01mFalse\u001b[39;00m),\n\u001b[0;32m   1886\u001b[0m     is_text\u001b[38;5;241m=\u001b[39mis_text,\n\u001b[0;32m   1887\u001b[0m     errors\u001b[38;5;241m=\u001b[39m\u001b[38;5;28mself\u001b[39m\u001b[38;5;241m.\u001b[39moptions\u001b[38;5;241m.\u001b[39mget(\u001b[38;5;124m\"\u001b[39m\u001b[38;5;124mencoding_errors\u001b[39m\u001b[38;5;124m\"\u001b[39m, \u001b[38;5;124m\"\u001b[39m\u001b[38;5;124mstrict\u001b[39m\u001b[38;5;124m\"\u001b[39m),\n\u001b[0;32m   1888\u001b[0m     storage_options\u001b[38;5;241m=\u001b[39m\u001b[38;5;28mself\u001b[39m\u001b[38;5;241m.\u001b[39moptions\u001b[38;5;241m.\u001b[39mget(\u001b[38;5;124m\"\u001b[39m\u001b[38;5;124mstorage_options\u001b[39m\u001b[38;5;124m\"\u001b[39m, \u001b[38;5;28;01mNone\u001b[39;00m),\n\u001b[0;32m   1889\u001b[0m )\n\u001b[0;32m   1890\u001b[0m \u001b[38;5;28;01massert\u001b[39;00m \u001b[38;5;28mself\u001b[39m\u001b[38;5;241m.\u001b[39mhandles \u001b[38;5;129;01mis\u001b[39;00m \u001b[38;5;129;01mnot\u001b[39;00m \u001b[38;5;28;01mNone\u001b[39;00m\n\u001b[0;32m   1891\u001b[0m f \u001b[38;5;241m=\u001b[39m \u001b[38;5;28mself\u001b[39m\u001b[38;5;241m.\u001b[39mhandles\u001b[38;5;241m.\u001b[39mhandle\n",
      "File \u001b[1;32m~\\anaconda3\\Lib\\site-packages\\pandas\\io\\common.py:873\u001b[0m, in \u001b[0;36mget_handle\u001b[1;34m(path_or_buf, mode, encoding, compression, memory_map, is_text, errors, storage_options)\u001b[0m\n\u001b[0;32m    868\u001b[0m \u001b[38;5;28;01melif\u001b[39;00m \u001b[38;5;28misinstance\u001b[39m(handle, \u001b[38;5;28mstr\u001b[39m):\n\u001b[0;32m    869\u001b[0m     \u001b[38;5;66;03m# Check whether the filename is to be opened in binary mode.\u001b[39;00m\n\u001b[0;32m    870\u001b[0m     \u001b[38;5;66;03m# Binary mode does not support 'encoding' and 'newline'.\u001b[39;00m\n\u001b[0;32m    871\u001b[0m     \u001b[38;5;28;01mif\u001b[39;00m ioargs\u001b[38;5;241m.\u001b[39mencoding \u001b[38;5;129;01mand\u001b[39;00m \u001b[38;5;124m\"\u001b[39m\u001b[38;5;124mb\u001b[39m\u001b[38;5;124m\"\u001b[39m \u001b[38;5;129;01mnot\u001b[39;00m \u001b[38;5;129;01min\u001b[39;00m ioargs\u001b[38;5;241m.\u001b[39mmode:\n\u001b[0;32m    872\u001b[0m         \u001b[38;5;66;03m# Encoding\u001b[39;00m\n\u001b[1;32m--> 873\u001b[0m         handle \u001b[38;5;241m=\u001b[39m \u001b[38;5;28mopen\u001b[39m(\n\u001b[0;32m    874\u001b[0m             handle,\n\u001b[0;32m    875\u001b[0m             ioargs\u001b[38;5;241m.\u001b[39mmode,\n\u001b[0;32m    876\u001b[0m             encoding\u001b[38;5;241m=\u001b[39mioargs\u001b[38;5;241m.\u001b[39mencoding,\n\u001b[0;32m    877\u001b[0m             errors\u001b[38;5;241m=\u001b[39merrors,\n\u001b[0;32m    878\u001b[0m             newline\u001b[38;5;241m=\u001b[39m\u001b[38;5;124m\"\u001b[39m\u001b[38;5;124m\"\u001b[39m,\n\u001b[0;32m    879\u001b[0m         )\n\u001b[0;32m    880\u001b[0m     \u001b[38;5;28;01melse\u001b[39;00m:\n\u001b[0;32m    881\u001b[0m         \u001b[38;5;66;03m# Binary mode\u001b[39;00m\n\u001b[0;32m    882\u001b[0m         handle \u001b[38;5;241m=\u001b[39m \u001b[38;5;28mopen\u001b[39m(handle, ioargs\u001b[38;5;241m.\u001b[39mmode)\n",
      "\u001b[1;31mFileNotFoundError\u001b[0m: [Errno 2] No such file or directory: 'onlinefraud.csv'"
     ]
    }
   ],
   "source": [
    "df = pd.read_csv(\"onlinefraud.csv\")\n",
    "# Displaying top 5 rows\n",
    "df.head()"
   ]
  },
  {
   "cell_type": "code",
   "execution_count": null,
   "id": "66943dfe",
   "metadata": {
    "scrolled": true
   },
   "outputs": [],
   "source": [
    "# Dispalying rows and columns\n",
    "df.shape"
   ]
  },
  {
   "cell_type": "code",
   "execution_count": null,
   "id": "079ccd5e",
   "metadata": {},
   "outputs": [],
   "source": [
    "df.info()"
   ]
  },
  {
   "cell_type": "code",
   "execution_count": null,
   "id": "fdf6d4b6",
   "metadata": {},
   "outputs": [],
   "source": [
    "df.columns"
   ]
  },
  {
   "cell_type": "code",
   "execution_count": null,
   "id": "e5691241",
   "metadata": {},
   "outputs": [],
   "source": [
    "df.head().T"
   ]
  },
  {
   "cell_type": "markdown",
   "id": "2ae28dfe",
   "metadata": {},
   "source": [
    "## Data Cleaning"
   ]
  },
  {
   "cell_type": "code",
   "execution_count": null,
   "id": "26cf0661",
   "metadata": {},
   "outputs": [],
   "source": [
    "# Displaying datatypes\n",
    "df.dtypes"
   ]
  },
  {
   "cell_type": "code",
   "execution_count": null,
   "id": "3e8cf948",
   "metadata": {},
   "outputs": [],
   "source": [
    "# Converting datatypes from objects\n",
    "df = df.convert_dtypes()\n",
    "df.dtypes"
   ]
  },
  {
   "cell_type": "markdown",
   "id": "096c1aa8",
   "metadata": {},
   "source": [
    "#### Analysing missing values"
   ]
  },
  {
   "cell_type": "code",
   "execution_count": null,
   "id": "86b1e46b",
   "metadata": {},
   "outputs": [],
   "source": [
    "# Displaying missing values\n",
    "msno.bar(df)\n",
    "plt.show()"
   ]
  },
  {
   "cell_type": "code",
   "execution_count": null,
   "id": "072164ba",
   "metadata": {
    "scrolled": false
   },
   "outputs": [],
   "source": [
    "# Displaying missing values\n",
    "msno.matrix(df)\n",
    "plt.show()"
   ]
  },
  {
   "cell_type": "code",
   "execution_count": null,
   "id": "40085571",
   "metadata": {},
   "outputs": [],
   "source": [
    "df.isnull().sum()"
   ]
  },
  {
   "cell_type": "markdown",
   "id": "690e3291",
   "metadata": {},
   "source": [
    "### Checking for outliers"
   ]
  },
  {
   "cell_type": "code",
   "execution_count": null,
   "id": "f11b53ee",
   "metadata": {},
   "outputs": [],
   "source": [
    "plt.figure(figsize=(12,8))\n",
    "df.boxplot()"
   ]
  },
  {
   "cell_type": "code",
   "execution_count": null,
   "id": "264c6999",
   "metadata": {},
   "outputs": [],
   "source": [
    "ig, ax = plt.subplots(1, 1, figsize=(8, 6))\n",
    "df.hist(ax=ax)\n",
    "plt.tight_layout()\n",
    "plt.show()"
   ]
  },
  {
   "cell_type": "markdown",
   "id": "86653540",
   "metadata": {},
   "source": [
    "## Exploratory Data Analysis"
   ]
  },
  {
   "cell_type": "code",
   "execution_count": null,
   "id": "4fce04ae",
   "metadata": {},
   "outputs": [],
   "source": [
    "# Displaying the number of Transactions using bar plot\n",
    "fig = px.histogram(df, x='isFraud', color='isFraud',\n",
    "                   title='Count Plot of Fraud Transactions',\n",
    "                   labels={'isFraud': 'Is Fraud'},\n",
    "                   text_auto=True,\n",
    "                   color_discrete_sequence=px.colors.sequential.PuBu)\n",
    "fig.update_layout(\n",
    "    yaxis_title='Number of Transactions',\n",
    "    xaxis_title='Is Fraud',\n",
    "    bargap=0.2,\n",
    ")\n",
    "fig.show()"
   ]
  },
  {
   "cell_type": "markdown",
   "id": "9cdfc5f7",
   "metadata": {},
   "source": [
    "> There are very few fraud identified transactions. There is high chances of imbalance class so need to balance the classes using oversampling or undersampling."
   ]
  },
  {
   "cell_type": "code",
   "execution_count": null,
   "id": "b0312246",
   "metadata": {
    "scrolled": false
   },
   "outputs": [],
   "source": [
    "# Displaying the number of Transactions using pie plot\n",
    "fraud_counts = df['isFraud'].value_counts()\n",
    "fraud_df = fraud_counts.reset_index()\n",
    "fraud_df.columns = ['isFraud', 'Counts']\n",
    "\n",
    "# Map the 'isFraud' numerical values to more descriptive labels\n",
    "fraud_df['Type'] = fraud_df['isFraud'].map({0: 'Non-Fraudulent', 1: 'Fraudulent'})\n",
    "\n",
    "# Now, plot the pie chart using Plotly Express\n",
    "import plotly.express as px\n",
    "\n",
    "fig = px.pie(fraud_df, names='Type', values='Counts',\n",
    "             title='Proportion of Fraud vs. Non-Fraud Transactions',\n",
    "             color='Type', color_discrete_sequence=['green', 'lightcoral'])\n",
    "\n",
    "fig.update_traces(textinfo='percent+label')\n",
    "fig.show()\n"
   ]
  },
  {
   "cell_type": "markdown",
   "id": "e3f1ef75",
   "metadata": {},
   "source": [
    "> There are very few fraud identified transactions. There is high chances of imbalance class so need to balance the classes using oversampling or undersampling."
   ]
  },
  {
   "cell_type": "code",
   "execution_count": null,
   "id": "1c49d222",
   "metadata": {
    "scrolled": false
   },
   "outputs": [],
   "source": [
    "# Displaying the correlation Heatmap\n",
    "numeric_df = df.select_dtypes(include=[np.number])\n",
    "# Calculate the correlation matrix on numeric data only\n",
    "correlation_matrix = numeric_df.corr()\n",
    "fig = go.Figure(data=go.Heatmap(\n",
    "    z=correlation_matrix.values,  # Correlation values\n",
    "    x=correlation_matrix.columns,  # Feature names for x-axis\n",
    "    y=correlation_matrix.index,  # Feature names for y-axis\n",
    "    colorscale='BrBG',  # Valid colorscale for correlation\n",
    "    colorbar=dict(title='Correlation'),\n",
    "))\n",
    "\n",
    "# Update the layout\n",
    "fig.update_layout(\n",
    "    title='Correlation Heatmap',\n",
    "    xaxis=dict(tickmode='linear'),\n",
    "    yaxis=dict(tickmode='linear'),\n",
    "    width=800,\n",
    "    height=600,\n",
    ")\n",
    "\n",
    "# Show the plot\n",
    "fig.show()\n"
   ]
  },
  {
   "cell_type": "markdown",
   "id": "904e97f8",
   "metadata": {},
   "source": [
    "> There is a strong corelation between newbalanceOrg and oldbalanceOrg"
   ]
  },
  {
   "cell_type": "code",
   "execution_count": null,
   "id": "9dc3b0a5",
   "metadata": {},
   "outputs": [],
   "source": [
    "import plotly.express as px\n",
    "\n",
    "grouped_df = df.groupby('type')['amount'].sum().reset_index()\n",
    "sorted_grouped_df = grouped_df.sort_values('amount', ascending=False)\n",
    "\n",
    "# Create a bar chart using Plotly Express, now with the data sorted \n",
    "fig = px.bar(sorted_grouped_df, x='type', y='amount',\n",
    "             labels={'type': 'Transaction Type', 'amount': 'Total Amount'},\n",
    "             title='Transaction Type Distribution',\n",
    "             color_discrete_sequence=['green'])  # Sets the bars to green\n",
    "\n",
    "# Customize the chart\n",
    "fig.update_layout(xaxis_title='Transaction Type',\n",
    "                  yaxis_title='Total Amount',\n",
    "                  legend_title='Transaction Type',\n",
    "                  xaxis=dict(tickangle=45))  # Rotate the x-axis labels for better readability\n",
    "\n",
    "# Show the plot\n",
    "fig.show()\n"
   ]
  },
  {
   "cell_type": "markdown",
   "id": "0935aaf1",
   "metadata": {},
   "source": [
    "> 'Transfer' type of transaction has maximum amount of amount processed. Least amount of transaction happend on 'Debit'."
   ]
  },
  {
   "cell_type": "code",
   "execution_count": null,
   "id": "aaa6b656",
   "metadata": {
    "scrolled": false
   },
   "outputs": [],
   "source": [
    "import pandas as pd\n",
    "import plotly.express as px\n",
    "\n",
    "transaction_type_counts = df['type'].value_counts()\n",
    "\n",
    "# Convert the Series to a DataFrame for Plotly\n",
    "transaction_type_counts_df = transaction_type_counts.reset_index()\n",
    "transaction_type_counts_df.columns = ['Transaction Type', 'Count']\n",
    "\n",
    "# Create a bar chart using Plotly Express\n",
    "fig = px.bar(transaction_type_counts_df, x='Transaction Type', y='Count',\n",
    "             title='Transaction Type Distribution',\n",
    "             labels={'Count': 'Count', 'Transaction Type': 'Transaction Type'},\n",
    "             color_discrete_sequence=['green'])  # Sets the bar color\n",
    "\n",
    "# Customize the chart\n",
    "fig.update_layout(xaxis_title='Transaction Type',\n",
    "                  yaxis_title='Count',\n",
    "                  xaxis=dict(tickangle=45))  # Rotate the x-axis labels for better readability\n",
    "\n",
    "# Show the plot\n",
    "fig.show()\n"
   ]
  },
  {
   "cell_type": "markdown",
   "id": "37e92c64",
   "metadata": {},
   "source": [
    "> 'Cash_out' type of transaction has maximum count of amount processed. Least number of transaction happend on 'Debit'."
   ]
  },
  {
   "cell_type": "markdown",
   "id": "4268de27",
   "metadata": {},
   "source": [
    "### Analysing which of Transaction has Fraud transactions"
   ]
  },
  {
   "cell_type": "code",
   "execution_count": null,
   "id": "83886c56",
   "metadata": {
    "scrolled": false
   },
   "outputs": [],
   "source": [
    "plt.figure(figsize=(12, 8))\n",
    "sns.boxplot(x='type', y='amount', data=df, hue='isFraud', palette='Set1')\n",
    "plt.yscale('log')\n",
    "plt.title('Box Plots of Transaction Amounts by Type and Fraud Status')\n",
    "plt.xlabel('Transaction Type')\n",
    "plt.ylabel('Transaction Amount (log scale)')\n",
    "plt.legend(title='Fraud', loc='upper right')\n",
    "plt.show()"
   ]
  },
  {
   "cell_type": "markdown",
   "id": "816d019b",
   "metadata": {},
   "source": [
    "> There are five types of transactions named Payment, Transfer, Cash_out, Debit and Cash_in. In this only 'Transfer' and 'Cash_out' have fraud transactions."
   ]
  },
  {
   "cell_type": "code",
   "execution_count": null,
   "id": "275d5ff3",
   "metadata": {
    "scrolled": false
   },
   "outputs": [],
   "source": [
    "Result = pd.crosstab(index=df.type,columns=df.isFraud)\n",
    "Result"
   ]
  },
  {
   "cell_type": "code",
   "execution_count": null,
   "id": "7cc437a0",
   "metadata": {},
   "outputs": [],
   "source": [
    "transfer_total = 528812+4097\n",
    "transfer_fraud = 4097/(transfer_total) * 100\n",
    "transfer_fraud"
   ]
  },
  {
   "cell_type": "code",
   "execution_count": null,
   "id": "81178fe0",
   "metadata": {},
   "outputs": [],
   "source": [
    "cashout_total=2233384+4116\n",
    "cashout_fraud= 4116/(cashout_total) * 100\n",
    "cashout_fraud"
   ]
  },
  {
   "cell_type": "markdown",
   "id": "2d2f93a3",
   "metadata": {},
   "source": [
    "> 76% of the fraud transactions happened in 'Transfer' and 18% of the fraud transactions happened in 'Cash_out'."
   ]
  },
  {
   "cell_type": "markdown",
   "id": "7d65050a",
   "metadata": {},
   "source": [
    "## Calculating the % of Fraud transactions"
   ]
  },
  {
   "cell_type": "code",
   "execution_count": null,
   "id": "92396112",
   "metadata": {
    "scrolled": true
   },
   "outputs": [],
   "source": [
    "df.isFlaggedFraud.value_counts()"
   ]
  },
  {
   "cell_type": "code",
   "execution_count": null,
   "id": "dc929fe4",
   "metadata": {},
   "outputs": [],
   "source": [
    "isFraud_flagged_fraud_records = df[(df.isFraud==1) & (df.isFlaggedFraud==1)]\n",
    "isFraud_flagged_fraud_records"
   ]
  },
  {
   "cell_type": "code",
   "execution_count": null,
   "id": "f1aab21d",
   "metadata": {},
   "outputs": [],
   "source": [
    "isFraud_flagged_fraud_records.shape"
   ]
  },
  {
   "cell_type": "code",
   "execution_count": null,
   "id": "4bc94c51",
   "metadata": {},
   "outputs": [],
   "source": [
    "total_fraud= df[df.isFlaggedFraud ==1]\n",
    "total_fraud = total_fraud.shape[0]\n",
    "total_fraud"
   ]
  },
  {
   "cell_type": "code",
   "execution_count": null,
   "id": "83f36072",
   "metadata": {},
   "outputs": [],
   "source": [
    "total_fraud= df[df.isFraud ==1]\n",
    "total_fraud = total_fraud.shape[0]\n",
    "total_fraud"
   ]
  },
  {
   "cell_type": "code",
   "execution_count": null,
   "id": "07226cac",
   "metadata": {},
   "outputs": [],
   "source": [
    "total_isflaggedFraud= isFraud_flagged_fraud_records.shape[0]\n",
    "total_isflaggedFraud"
   ]
  },
  {
   "cell_type": "code",
   "execution_count": null,
   "id": "77df4725",
   "metadata": {},
   "outputs": [],
   "source": [
    "flagged_percent = total_isflaggedFraud/total_fraud * 100\n",
    "print('Percentage of flagged fraud: ',round(flagged_percent,3))\n",
    "\n",
    "unflagged_percent= (total_fraud-total_isflaggedFraud)/total_fraud * 100\n",
    "print('Percentage of incorrectly flagged fraud: ',round(unflagged_percent,3))"
   ]
  },
  {
   "cell_type": "markdown",
   "id": "01e140e4",
   "metadata": {},
   "source": [
    "> The data reveals a critical challenge in fraud detection, with a mere 0.195% of transactions correctly identified as fraud, against a high 99.805% of transactions that were incorrectly flagged as fraudulent. This significant imbalance suggests the fraud detection mechanism is overly cautious, producing a vast number of false positives. Such inefficiency could strain resources, erode customer trust, and diminish user experience due to unwarranted scrutiny on legitimate transactions."
   ]
  },
  {
   "cell_type": "markdown",
   "id": "330c195d",
   "metadata": {},
   "source": [
    "## Fraud amount"
   ]
  },
  {
   "cell_type": "code",
   "execution_count": null,
   "id": "47496740",
   "metadata": {},
   "outputs": [],
   "source": [
    "total_transactions = df.shape[0]\n",
    "fraud_transaction = df[df.isFraud==1].shape[0]\n",
    "fraud_percent= fraud_transaction/total_transactions * 100\n",
    "fraud_percent"
   ]
  },
  {
   "cell_type": "code",
   "execution_count": null,
   "id": "e8fa7fe1",
   "metadata": {},
   "outputs": [],
   "source": [
    "print('Total transactions: ',total_transactions)\n",
    "print('Total fraud transactions happened: ',fraud_transaction)\n",
    "print(\"Total fraud transaction percent: \",round(fraud_percent,2))"
   ]
  },
  {
   "cell_type": "code",
   "execution_count": null,
   "id": "8497d34b",
   "metadata": {},
   "outputs": [],
   "source": [
    "fraud_amount= df[df.isFraud==1]\n",
    "fraud_amount=fraud_amount.sort_values(by=['amount'],ascending=False)\n",
    "fraud_amount"
   ]
  },
  {
   "cell_type": "code",
   "execution_count": null,
   "id": "6cd06d16",
   "metadata": {
    "scrolled": false
   },
   "outputs": [],
   "source": [
    "import plotly.express as px\n",
    "\n",
    "# Assuming 'fraud_amount' is a DataFrame with a column named 'amount'\n",
    "# that you want to plot\n",
    "\n",
    "# Create a histogram using Plotly Express\n",
    "fig = px.histogram(fraud_amount, x='amount', nbins=7,\n",
    "                   title='Distribution of Fraud Amount',\n",
    "                   labels={'amount': 'Amount'},  # Change 'amount' to your specific column name if different\n",
    "                   color_discrete_sequence=['orange'])  # Sets the bars to orange\n",
    "\n",
    "# Customize the histogram\n",
    "fig.update_traces(marker_line_color='black', marker_line_width=1.5)  # Sets the edge color and width\n",
    "fig.update_layout(xaxis_title='Amount', yaxis_title='Count', \n",
    "                  width=800, height=400)  # Adjusts the size, similar to figsize in matplotlib\n",
    "\n",
    "# Show the plot\n",
    "fig.show()\n"
   ]
  },
  {
   "cell_type": "markdown",
   "id": "14d0598d",
   "metadata": {},
   "source": [
    "> Most of the fraud transaction amount is in between 1 million."
   ]
  },
  {
   "cell_type": "markdown",
   "id": "802deb32",
   "metadata": {},
   "source": [
    "## Calculating max frequency of Steps "
   ]
  },
  {
   "cell_type": "code",
   "execution_count": null,
   "id": "167fb417",
   "metadata": {},
   "outputs": [],
   "source": [
    "import plotly.express as px\n",
    "\n",
    "# Assuming df is your DataFrame and 'step' is the column you want to plot\n",
    "\n",
    "# Create a histogram using Plotly Express\n",
    "fig = px.histogram(df, x='step', nbins=50,\n",
    "                   title='Distribution of Step',\n",
    "                   labels={'step': 'Step'},  # Change 'step' to your specific column name if different\n",
    "                   opacity=0.75,\n",
    "                   marginal='box')  # Optional: adds a boxplot alongside the histogram for another view of the distribution\n",
    "\n",
    "# Customize the histogram appearance\n",
    "fig.update_layout(xaxis_title='Step', yaxis_title='Count',\n",
    "                  width=900, height=400)  # Adjusts the size\n",
    "\n",
    "# Show the plot\n",
    "fig.show()\n"
   ]
  },
  {
   "cell_type": "markdown",
   "id": "a93ee063",
   "metadata": {},
   "source": [
    "> Maximum distribution are between 150 to 350\n",
    "of step."
   ]
  },
  {
   "cell_type": "markdown",
   "id": "85be126c",
   "metadata": {},
   "source": [
    "## Balancing the data"
   ]
  },
  {
   "cell_type": "code",
   "execution_count": null,
   "id": "1089188d",
   "metadata": {},
   "outputs": [],
   "source": [
    "df['isFraud'].value_counts()"
   ]
  },
  {
   "cell_type": "markdown",
   "id": "cf2999ec",
   "metadata": {},
   "source": [
    "### OverSampling: SMOTE"
   ]
  },
  {
   "cell_type": "code",
   "execution_count": null,
   "id": "e80836b0",
   "metadata": {},
   "outputs": [],
   "source": [
    "X = df.drop(columns=['isFraud','type','nameDest','nameOrig'], axis=1)# Remove the class column from the main dataset\n",
    "print(X)"
   ]
  },
  {
   "cell_type": "code",
   "execution_count": null,
   "id": "429f330e",
   "metadata": {},
   "outputs": [],
   "source": [
    "Y = df['isFraud']\n",
    "print(Y)"
   ]
  },
  {
   "cell_type": "code",
   "execution_count": null,
   "id": "498dc81f",
   "metadata": {},
   "outputs": [],
   "source": [
    "X_train, X_test, Y_train, Y_test = train_test_split(X, Y, test_size=0.2, stratify=Y, random_state=2)"
   ]
  },
  {
   "cell_type": "code",
   "execution_count": null,
   "id": "11976cc2",
   "metadata": {},
   "outputs": [],
   "source": [
    "print(X.shape, X_train.shape, X_test.shape)"
   ]
  },
  {
   "cell_type": "code",
   "execution_count": null,
   "id": "ec195d62",
   "metadata": {
    "scrolled": true
   },
   "outputs": [],
   "source": [
    "from imblearn.over_sampling import SMOTE #SMOTE = synthetic minority oversampling technique\n",
    "smote = SMOTE()"
   ]
  },
  {
   "cell_type": "code",
   "execution_count": null,
   "id": "95f8e585",
   "metadata": {},
   "outputs": [],
   "source": [
    "X_train = X_train.astype(float)"
   ]
  },
  {
   "cell_type": "code",
   "execution_count": null,
   "id": "156c55c7",
   "metadata": {},
   "outputs": [],
   "source": [
    "X_train_smote, Y_train_smote = smote.fit_resample(X_train, Y_train)\n",
    "print(X_train_smote.shape)\n",
    "print(Y_train_smote.shape)"
   ]
  },
  {
   "cell_type": "markdown",
   "id": "69b22d9c",
   "metadata": {},
   "source": [
    "### UnderSampling: Random UnderSampling"
   ]
  },
  {
   "cell_type": "code",
   "execution_count": null,
   "id": "be972567",
   "metadata": {},
   "outputs": [],
   "source": [
    "legit_txns = df[df.isFraud == 0]\n",
    "fraud_txns = df[df.isFraud == 1]"
   ]
  },
  {
   "cell_type": "code",
   "execution_count": null,
   "id": "e6332e47",
   "metadata": {},
   "outputs": [],
   "source": [
    "print(legit_txns.shape)\n",
    "print(fraud_txns.shape)"
   ]
  },
  {
   "cell_type": "code",
   "execution_count": null,
   "id": "f5ee39e8",
   "metadata": {},
   "outputs": [],
   "source": [
    "legit_sample = legit_txns.sample(n=8213) # Samples 8213 transactions out of the legit transactions\n",
    "undersampled_dataset = pd.concat([legit_sample, fraud_txns], axis=0)"
   ]
  },
  {
   "cell_type": "code",
   "execution_count": null,
   "id": "ad8a0d3a",
   "metadata": {},
   "outputs": [],
   "source": [
    "undersampled_dataset['isFraud'].value_counts()"
   ]
  },
  {
   "cell_type": "code",
   "execution_count": null,
   "id": "81708af4",
   "metadata": {},
   "outputs": [],
   "source": [
    "X = undersampled_dataset.drop(columns=['isFraud','type','nameDest','nameOrig'], axis=1) # Remove the class column from the undersampled dataset\n",
    "print(X)"
   ]
  },
  {
   "cell_type": "code",
   "execution_count": null,
   "id": "9d8db387",
   "metadata": {},
   "outputs": [],
   "source": [
    "Y = undersampled_dataset['isFraud']\n",
    "print(Y)"
   ]
  },
  {
   "cell_type": "code",
   "execution_count": null,
   "id": "ca1f73a3",
   "metadata": {},
   "outputs": [],
   "source": [
    "X_train_undersampled, X_test_undersampled, Y_train_undersampled, Y_test_undersampled = train_test_split(X, Y, test_size=0.2, stratify=Y, random_state=2)"
   ]
  },
  {
   "cell_type": "code",
   "execution_count": null,
   "id": "504547c0",
   "metadata": {},
   "outputs": [],
   "source": [
    "print(X.shape, X_train_undersampled.shape, X_test_undersampled.shape)"
   ]
  },
  {
   "cell_type": "markdown",
   "id": "372f068c",
   "metadata": {},
   "source": [
    "## Model training"
   ]
  },
  {
   "cell_type": "markdown",
   "id": "78d64abe",
   "metadata": {},
   "source": [
    "### Oversampling"
   ]
  },
  {
   "cell_type": "code",
   "execution_count": null,
   "id": "59701dd7",
   "metadata": {},
   "outputs": [],
   "source": [
    "scaler = StandardScaler()\n",
    "X_train_scaled_smote = scaler.fit_transform(X_train_smote)"
   ]
  },
  {
   "cell_type": "markdown",
   "id": "621360e0",
   "metadata": {},
   "source": [
    "### Undersampling"
   ]
  },
  {
   "cell_type": "code",
   "execution_count": null,
   "id": "000f0276",
   "metadata": {},
   "outputs": [],
   "source": [
    "X_train_scaled_undersampled = scaler.fit_transform(X_train_undersampled)\n",
    "X_test_scaled_undersampled = scaler.transform(X_test_undersampled)"
   ]
  },
  {
   "cell_type": "markdown",
   "id": "dfb9a269",
   "metadata": {},
   "source": [
    "## Creating the Model instances/objects"
   ]
  },
  {
   "cell_type": "code",
   "execution_count": null,
   "id": "0cf05ce7",
   "metadata": {},
   "outputs": [],
   "source": [
    "LogisticRegressionModel = LogisticRegression()"
   ]
  },
  {
   "cell_type": "markdown",
   "id": "b061d0d4",
   "metadata": {},
   "source": [
    "### Oversampling"
   ]
  },
  {
   "cell_type": "code",
   "execution_count": null,
   "id": "290c5e95",
   "metadata": {},
   "outputs": [],
   "source": [
    "LogisticRegressionModel.fit(X_train_scaled_smote, Y_train_smote)"
   ]
  },
  {
   "cell_type": "markdown",
   "id": "be87cc33",
   "metadata": {},
   "source": [
    "### Undersampling"
   ]
  },
  {
   "cell_type": "code",
   "execution_count": null,
   "id": "0be08ebb",
   "metadata": {},
   "outputs": [],
   "source": [
    "LogisticRegressionModel.fit(X_train_scaled_undersampled, Y_train_undersampled)"
   ]
  },
  {
   "cell_type": "code",
   "execution_count": null,
   "id": "ec9758db",
   "metadata": {},
   "outputs": [],
   "source": []
  },
  {
   "cell_type": "code",
   "execution_count": null,
   "id": "8f663a74",
   "metadata": {},
   "outputs": [],
   "source": []
  },
  {
   "cell_type": "code",
   "execution_count": null,
   "id": "4205cec5",
   "metadata": {},
   "outputs": [],
   "source": []
  },
  {
   "cell_type": "code",
   "execution_count": null,
   "id": "6e7a9d80",
   "metadata": {},
   "outputs": [],
   "source": []
  },
  {
   "cell_type": "code",
   "execution_count": null,
   "id": "75708274",
   "metadata": {},
   "outputs": [],
   "source": []
  },
  {
   "cell_type": "code",
   "execution_count": null,
   "id": "d8f79d84",
   "metadata": {},
   "outputs": [],
   "source": []
  },
  {
   "cell_type": "code",
   "execution_count": null,
   "id": "57352e86",
   "metadata": {},
   "outputs": [],
   "source": []
  }
 ],
 "metadata": {
  "kernelspec": {
   "display_name": "Python 3 (ipykernel)",
   "language": "python",
   "name": "python3"
  },
  "language_info": {
   "codemirror_mode": {
    "name": "ipython",
    "version": 3
   },
   "file_extension": ".py",
   "mimetype": "text/x-python",
   "name": "python",
   "nbconvert_exporter": "python",
   "pygments_lexer": "ipython3",
   "version": "3.11.4"
  }
 },
 "nbformat": 4,
 "nbformat_minor": 5
}
